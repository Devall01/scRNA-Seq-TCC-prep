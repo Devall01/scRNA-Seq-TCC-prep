{
 "cells": [
  {
   "cell_type": "code",
   "execution_count": null,
   "metadata": {
    "collapsed": true
   },
   "outputs": [],
   "source": [
    "import json,os"
   ]
  },
  {
   "cell_type": "markdown",
   "metadata": {},
   "source": [
    "### source and working directories"
   ]
  },
  {
   "cell_type": "code",
   "execution_count": null,
   "metadata": {
    "collapsed": true
   },
   "outputs": [],
   "source": [
    "# the source directory\n",
    "git_source_dir = os.path.abspath('../source/')+'/'\n"
   ]
  },
  {
   "cell_type": "code",
   "execution_count": null,
   "metadata": {
    "collapsed": true
   },
   "outputs": [],
   "source": [
    "# TCCprep working directory;\n",
    "# config.json and output folders will be placed here\n",
    "TCCprep_dir=os.path.abspath('../example_dataset/')+'/'"
   ]
  },
  {
   "cell_type": "markdown",
   "metadata": {},
   "source": [
    "### Make the TCCprep directory"
   ]
  },
  {
   "cell_type": "code",
   "execution_count": null,
   "metadata": {
    "collapsed": true
   },
   "outputs": [],
   "source": [
    "if not os.path.isdir(TCCprep_dir):\n",
    "        os.makedirs(TCCprep_dir,exist_ok=True)"
   ]
  },
  {
   "cell_type": "markdown",
   "metadata": {},
   "source": [
    "### edit json file"
   ]
  },
  {
   "cell_type": "code",
   "execution_count": null,
   "metadata": {
    "collapsed": true
   },
   "outputs": [],
   "source": [
    "js={\n",
    "    \"NUM_THREADS\": 16,\n",
    "    \"FASTQ_DIRS\": [os.path.abspath('./example_data')+\"/t_3k_fastqs_small/\"],\n",
    "    \"SOURCE_DIR\": git_source_dir,\n",
    "    \"sample_names\": [\"t_3k_small\"],\n",
    "    \"EXP_CELLS\": [3000],\n",
    "    \"use_precomputed_barcodes\": 0,    \n",
    "    \"precomputed_barcode_files\": [\"/path/to/precomputed/barcodes/for/sample1/\",\n",
    "                                  \"/path/to/precomputed/barcodes/for/sample2/\"], \n",
    "    \"SAVE_DIR\": TCCprep_dir+\"save_data/\",\n",
    "    \"dmin\": 4,\n",
    "    \"BARCODE_LENGTH\": 16,\n",
    "    \"UMI_LENGTH\": 10,\n",
    "    \"stdout.log\": 0,\n",
    "    \"OUTPUT_DIR\": TCCprep_dir+\"singlecell_fastqs/\",\n",
    "    \"kallisto\":{\n",
    "        \"binary\": \"/usr/local/bin/kallisto\",\n",
    "        \"index\": \"/home/vasilis/clustering_EQ/SC/hum_index.idx\",\n",
    "        \"TCC_output\" : TCCprep_dir+\"TCC_output/\"\n",
    "    }\n",
    "}"
   ]
  },
  {
   "cell_type": "markdown",
   "metadata": {},
   "source": [
    "## write json file"
   ]
  },
  {
   "cell_type": "code",
   "execution_count": null,
   "metadata": {},
   "outputs": [],
   "source": [
    "filename = 'config.json'\n",
    "with open(TCCprep_dir+filename,mode='w') as json_file:\n",
    "    json.dump(js,json_file)"
   ]
  },
  {
   "cell_type": "code",
   "execution_count": null,
   "metadata": {
    "collapsed": true
   },
   "outputs": [],
   "source": []
  },
  {
   "cell_type": "code",
   "execution_count": null,
   "metadata": {
    "collapsed": true
   },
   "outputs": [],
   "source": []
  },
  {
   "cell_type": "markdown",
   "metadata": {},
   "source": [
    "#### joint sample prep (e.g., t3k + t4k)"
   ]
  },
  {
   "cell_type": "code",
   "execution_count": null,
   "metadata": {
    "collapsed": true
   },
   "outputs": [],
   "source": [
    "js={\n",
    "    \"NUM_THREADS\": 16,\n",
    "    \"FASTQ_DIRS\": [os.path.abspath('./example_data')+\"/t_3k_fastqs_small/\",os.path.abspath('./example_data')+\"/t_4k_fastqs_small/\"],\n",
    "    \"SOURCE_DIR\": git_source_dir,\n",
    "    \"sample_names\": [\"t_3k_small\",\"t_4k_small\"],\n",
    "    \"EXP_CELLS\": [3000,4000],\n",
    "    \"use_precomputed_barcodes\": 0,    \n",
    "    \"precomputed_barcode_files\": [\"/path/to/precomputed/barcodes/for/sample1/\",\n",
    "                                  \"/path/to/precomputed/barcodes/for/sample2/\"], \n",
    "    \"SAVE_DIR\": TCCprep_dir+\"save_data/\",\n",
    "    \"dmin\": 4,\n",
    "    \"BARCODE_LENGTH\": 16,\n",
    "    \"UMI_LENGTH\": 10,\n",
    "    \"stdout.log\": 0,\n",
    "    \"OUTPUT_DIR\": TCCprep_dir+\"singlecell_fastqs/\",\n",
    "    \"kallisto\":{\n",
    "        \"binary\": \"/usr/local/bin/kallisto\",\n",
    "        \"index\": \"/home/vasilis/clustering_EQ/SC/hum_index.idx\",\n",
    "        \"TCC_output\" : TCCprep_dir+\"TCC_output/\"\n",
    "    }\n",
    "}"
   ]
  },
  {
   "cell_type": "code",
   "execution_count": null,
   "metadata": {
    "collapsed": true
   },
   "outputs": [],
   "source": [
    "filename = 'config_joint.json'\n",
    "with open(TCCprep_dir+filename,mode='w') as json_file:\n",
    "    json.dump(js,json_file)"
   ]
  },
  {
   "cell_type": "code",
   "execution_count": null,
   "metadata": {
    "collapsed": true
   },
   "outputs": [],
   "source": []
  }
 ],
 "metadata": {
  "kernelspec": {
   "display_name": "py36",
   "language": "python",
   "name": "python3"
  },
  "language_info": {
   "codemirror_mode": {
    "name": "ipython",
    "version": 3
   },
   "file_extension": ".py",
   "mimetype": "text/x-python",
   "name": "python",
   "nbconvert_exporter": "python",
   "pygments_lexer": "ipython3",
   "version": "3.6.2"
  }
 },
 "nbformat": 4,
 "nbformat_minor": 2
}
