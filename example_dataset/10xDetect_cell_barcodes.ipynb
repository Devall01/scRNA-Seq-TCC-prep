{
 "cells": [
  {
   "cell_type": "code",
   "execution_count": 1,
   "metadata": {
    "collapsed": true
   },
   "outputs": [],
   "source": [
    "import os\n",
    "import sys\n",
    "\n",
    "json_file='config_joint.json'\n",
    "\n",
    "json_path=os.path.abspath(json_file)\n",
    "if not os.path.isfile(json_path):\n",
    "    print(\"ERROR: Please provide path to a valid config.json file...\")\n",
    "    print(sys.argv[1])\n",
    "    exit(1)\n",
    "\n",
    "    \n",
    "workpath, jsonfile = os.path.split(json_path)\n",
    "os.chdir(workpath)"
   ]
  },
  {
   "cell_type": "code",
   "execution_count": 2,
   "metadata": {
    "collapsed": true
   },
   "outputs": [],
   "source": [
    "import numpy as np\n",
    "from itertools import islice\n",
    "import math\n",
    "import random\n",
    "from collections import Counter\n",
    "import matplotlib as mpl\n",
    "import gzip, time, gc\n",
    "from multiprocessing import Pool\n",
    "from os import listdir\n",
    "from os.path import isfile, join\n",
    "import matplotlib.pyplot as plt\n",
    "%matplotlib inline"
   ]
  },
  {
   "cell_type": "code",
   "execution_count": 3,
   "metadata": {
    "collapsed": true
   },
   "outputs": [],
   "source": [
    "#Read config.json file\n",
    "import json\n",
    "# use abspath from argv\n",
    "with open(json_path) as json_file:\n",
    "    parameter = json.load(json_file)\n",
    "\n",
    "from os import listdir\n",
    "from os.path import isfile, join\n",
    "import re"
   ]
  },
  {
   "cell_type": "code",
   "execution_count": 4,
   "metadata": {},
   "outputs": [
    {
     "name": "stdout",
     "output_type": "stream",
     "text": [
      "Will process samples:\n",
      " t_3k_small with ~3000 cells\n",
      " t_4k_small with ~4000 cells\n",
      "\n",
      "Will look for the corresponding fastqs in the directories:\n",
      " /home/vasilis/test_TCCprep/scRNA-Seq-TCC-prep/example_dataset/example_data/t_3k_fastqs_small/\n",
      " /home/vasilis/test_TCCprep/scRNA-Seq-TCC-prep/example_dataset/example_data/t_4k_fastqs_small/\n"
     ]
    }
   ],
   "source": [
    "FASTQ_DIRS=parameter[\"FASTQ_DIRS\"]\n",
    "SAMPLE_NAMES=parameter['sample_names']\n",
    "EXP_CELLS=parameter['EXP_CELLS']\n",
    "\n",
    "if len(EXP_CELLS)!=len(SAMPLE_NAMES):\n",
    "    print(\"ERROR: Expected cells must be provided for every sample\")\n",
    "    \n",
    "try:\n",
    "    tmp=SAMPLE_NAMES[0]\n",
    "except TypeError:\n",
    "    print(\"Sample names must be provided as a list (even when there is only one sample, e.g., 'sample1' ---> ['sample1'] ). \")\n",
    "\n",
    "try:\n",
    "    tmp=EXP_CELLS[0]\n",
    "except TypeError:\n",
    "    print(\"EXP_CELLS must be provided as a list (even when there is only one sample, e.g., 3000 ---> [3000] ). \")\n",
    "\n",
    "print(\"Will process samples:\")\n",
    "for i in range(len(SAMPLE_NAMES)):\n",
    "    print(' '+SAMPLE_NAMES[i]+\" with ~%d cells\"% EXP_CELLS[i])\n",
    "    \n",
    "print(\"\\nWill look for the corresponding fastqs in the directories:\")    \n",
    "for d in FASTQ_DIRS:\n",
    "    print(' '+d)"
   ]
  },
  {
   "cell_type": "code",
   "execution_count": 5,
   "metadata": {},
   "outputs": [
    {
     "name": "stdout",
     "output_type": "stream",
     "text": [
      "BARCODE FILES(R1):\n",
      "\n",
      "sample: t_3k_small\n",
      " /home/vasilis/test_TCCprep/scRNA-Seq-TCC-prep/example_dataset/example_data/t_3k_fastqs_small/t_3k_small_S1_L001_R1_001.fastq.gz\n",
      " /home/vasilis/test_TCCprep/scRNA-Seq-TCC-prep/example_dataset/example_data/t_3k_fastqs_small/t_3k_small_S1_L002_R1_001.fastq.gz\n",
      " /home/vasilis/test_TCCprep/scRNA-Seq-TCC-prep/example_dataset/example_data/t_3k_fastqs_small/t_3k_small_S1_L003_R1_001.fastq.gz\n",
      " /home/vasilis/test_TCCprep/scRNA-Seq-TCC-prep/example_dataset/example_data/t_3k_fastqs_small/t_3k_small_S1_L004_R1_001.fastq.gz\n",
      " /home/vasilis/test_TCCprep/scRNA-Seq-TCC-prep/example_dataset/example_data/t_3k_fastqs_small/t_3k_small_S1_L005_R1_001.fastq.gz\n",
      " /home/vasilis/test_TCCprep/scRNA-Seq-TCC-prep/example_dataset/example_data/t_3k_fastqs_small/t_3k_small_S1_L006_R1_001.fastq.gz\n",
      " /home/vasilis/test_TCCprep/scRNA-Seq-TCC-prep/example_dataset/example_data/t_3k_fastqs_small/t_3k_small_S1_L007_R1_001.fastq.gz\n",
      " /home/vasilis/test_TCCprep/scRNA-Seq-TCC-prep/example_dataset/example_data/t_3k_fastqs_small/t_3k_small_S1_L008_R1_001.fastq.gz\n",
      "\n",
      "sample: t_4k_small\n",
      " /home/vasilis/test_TCCprep/scRNA-Seq-TCC-prep/example_dataset/example_data/t_4k_fastqs_small/t_4k_small_S1_L001_R1_001.fastq.gz\n",
      " /home/vasilis/test_TCCprep/scRNA-Seq-TCC-prep/example_dataset/example_data/t_4k_fastqs_small/t_4k_small_S1_L002_R1_001.fastq.gz\n",
      " /home/vasilis/test_TCCprep/scRNA-Seq-TCC-prep/example_dataset/example_data/t_4k_fastqs_small/t_4k_small_S1_L003_R1_001.fastq.gz\n",
      " /home/vasilis/test_TCCprep/scRNA-Seq-TCC-prep/example_dataset/example_data/t_4k_fastqs_small/t_4k_small_S1_L004_R1_001.fastq.gz\n",
      " /home/vasilis/test_TCCprep/scRNA-Seq-TCC-prep/example_dataset/example_data/t_4k_fastqs_small/t_4k_small_S1_L005_R1_001.fastq.gz\n",
      " /home/vasilis/test_TCCprep/scRNA-Seq-TCC-prep/example_dataset/example_data/t_4k_fastqs_small/t_4k_small_S1_L006_R1_001.fastq.gz\n",
      " /home/vasilis/test_TCCprep/scRNA-Seq-TCC-prep/example_dataset/example_data/t_4k_fastqs_small/t_4k_small_S1_L007_R1_001.fastq.gz\n",
      " /home/vasilis/test_TCCprep/scRNA-Seq-TCC-prep/example_dataset/example_data/t_4k_fastqs_small/t_4k_small_S1_L008_R1_001.fastq.gz\n"
     ]
    }
   ],
   "source": [
    "barcode_filenames_per_sample = []\n",
    "barcode_dirs_per_sample = []\n",
    "read_filenames_per_sample = []\n",
    "read_dirs_per_sample = []\n",
    "for i_S in range(len(SAMPLE_NAMES)):\n",
    "    barcode_filenames = []\n",
    "    barcode_dirs = []\n",
    "    read_filenames = []\n",
    "    read_dirs = []\n",
    "    for i_F in range(len(FASTQ_DIRS)):\n",
    "        for f in sorted(listdir(str(FASTQ_DIRS[i_F]))):\n",
    "            if (isfile(join(str(FASTQ_DIRS[i_F]), f)) and f.startswith(str(SAMPLE_NAMES[i_S])) and \n",
    "                f[-8:]=='fastq.gz' and f.find('R1')>0):\n",
    "                \n",
    "                barcode_filenames.append(f)\n",
    "                barcode_dirs.append(str(FASTQ_DIRS[i_F])+f)\n",
    "                \n",
    "            if (isfile(join(str(FASTQ_DIRS[i_F]), f)) and f.startswith(str(SAMPLE_NAMES[i_S])) and \n",
    "                f[-8:]=='fastq.gz' and f.find('R2')>0):\n",
    "                \n",
    "                read_filenames.append(f)\n",
    "                read_dirs.append(str(FASTQ_DIRS[i_F])+f)\n",
    "                \n",
    "                \n",
    "#             pattern = r\"^\"+str(SAMPLE_NAMES[i_S])+\"_S\\d+_L00\\d_([IR]\\d)_001.fastq.gz\"\n",
    "#             match = re.match(pattern, f)\n",
    "#             if match:\n",
    "#                 barcode_name = match.group(1)\n",
    "#             if isfile(join(str(FASTQ_DIRS[i_F]), f)) and f.startswith(str(SAMPLE_NAMES[i_S])) and barcode_name == 'R1':\n",
    "#                 barcode_filenames.append(f)\n",
    "#                 barcode_dirs.append(str(FASTQ_DIRS[i_F])+f)\n",
    "#             if isfile(join(str(FASTQ_DIRS[i_F]), f)) and f.startswith(str(SAMPLE_NAMES[i_S])) and barcode_name == 'R2':\n",
    "#                 read_filenames.append(f)\n",
    "#                 read_dirs.append(str(FASTQ_DIRS[i_F])+f)\n",
    "\n",
    "\n",
    "    barcode_filenames_per_sample += [barcode_filenames]\n",
    "    barcode_dirs_per_sample += [barcode_dirs]\n",
    "    read_filenames_per_sample += [read_filenames]\n",
    "    read_dirs_per_sample +=[read_dirs]\n",
    "                \n",
    "print(\"BARCODE FILES(R1):\")\n",
    "for i in range(len(barcode_dirs_per_sample)):\n",
    "    print(\"\\nsample: \"+SAMPLE_NAMES[i])\n",
    "    for j in range(len(barcode_dirs_per_sample[i])):\n",
    "        print(\" \"+barcode_dirs_per_sample[i][j])\n",
    "        \n",
    "# print(\"\\n----------------------------------------------------------------------------------------\")\n",
    "# print(\"READ FILES(R2):\")\n",
    "# for i in range(len(read_dirs_per_sample)):\n",
    "#     print(\"\\nsample: \"+SAMPLE_NAMES[i])\n",
    "#     for j in range(len(read_dirs_per_sample[i])):\n",
    "#         print(\" \"+read_dirs_per_sample[i][j])"
   ]
  },
  {
   "cell_type": "code",
   "execution_count": 6,
   "metadata": {
    "collapsed": true
   },
   "outputs": [],
   "source": [
    "random.seed()\n",
    "\n",
    "save_dir=str(parameter[\"SAVE_DIR\"])\n",
    "#create output directory \n",
    "import os\n",
    "if not os.path.isdir(save_dir):\n",
    "    try:\n",
    "        os.mkdir(save_dir)\n",
    "    except OSError as e:\n",
    "        print(\"OSError({0}): {1}\".format(e.errno, e.strerror))\n",
    "\n",
    "BARCODE_LENGTH=parameter['BARCODE_LENGTH']\n",
    "output_dir = parameter['OUTPUT_DIR']\n",
    "NUM_THREADS = parameter['NUM_THREADS']"
   ]
  },
  {
   "cell_type": "code",
   "execution_count": 7,
   "metadata": {
    "collapsed": true
   },
   "outputs": [],
   "source": [
    "def encoding_map(ch):\n",
    "    if ch=='A':return 0\n",
    "    if ch=='G':return 1\n",
    "    if ch=='C':return 2\n",
    "    if ch=='T':return 3\n",
    "    if ch=='N':return random.randint(0,3)\n",
    "\n",
    "decoding_lst = ['A', 'G', 'C', 'T']\n",
    "\n",
    "def encode(k):\n",
    "    code = 0\n",
    "    for ch in k:\n",
    "        code *= 4\n",
    "        code += encoding_map(ch)\n",
    "    return code\n",
    "\n",
    "def decode(code):\n",
    "    ret = ''\n",
    "    for _ in range(parameter[\"BARCODE_LENGTH\"]):\n",
    "        index = code & 3\n",
    "        code >>= 2\n",
    "        ret = decoding_lst[index] + ret\n",
    "    return ret\n",
    "\n",
    "def read_barcodes_(brc_dir):\n",
    "    print(\" Reading from \"+brc_dir)\n",
    "    barcodes=[]\n",
    "    with gzip.open(brc_dir) as f:\n",
    "        cnt=0\n",
    "        for line in f:\n",
    "            if cnt%4==1:\n",
    "                line=line.decode('UTF-8')\n",
    "                if len(line) <= parameter[\"BARCODE_LENGTH\"]:\n",
    "                    seq_added = \"\".join('N' for i in range(parameter[\"BARCODE_LENGTH\"] + parameter[\"UMI_LENGTH\"] - (len(line)-1)))\n",
    "                    line = line[0:-1] + seq_added\n",
    "                    print(brc_dir)\n",
    "                    print(cnt, line)\n",
    "                    barcodes+=[encode(line[0:parameter[\"BARCODE_LENGTH\"]])]  # extract barecode \n",
    "                else: \n",
    "                    barcodes+=[encode(line[0:parameter[\"BARCODE_LENGTH\"]])]  # extract barcode from barcode \n",
    "            cnt+=1;            \n",
    "    return barcodes\n",
    "\n",
    "import io\n",
    "def read_barcodes_io(brc_dir):\n",
    "    print(\" Reading from \"+brc_dir)\n",
    "    barcodes=[]\n",
    "    with gzip.open(brc_dir,'rb') as gz:\n",
    "        cnt=0\n",
    "        with io.BufferedReader(gz) as f:\n",
    "            for line in f:\n",
    "                if cnt%4==1:\n",
    "                    barcodes+=[encode(line[0:parameter[\"BARCODE_LENGTH\"]].decode('UTF-8'))]  # extract barcode from barcode \n",
    "                cnt+=1;            \n",
    "    return barcodes\n",
    "\n",
    "import subprocess  \n",
    "def read_barcodes_zcat(brc_dir):\n",
    "    print(\" Reading from \"+brc_dir)\n",
    "    barcodes=[]\n",
    "    p = subprocess.Popen(\n",
    "        [\"zcat\", brc_dir],\n",
    "        stdout=subprocess.PIPE\n",
    "    )\n",
    "    cnt=0\n",
    "    for line in p.stdout:\n",
    "        if cnt%4==1:\n",
    "            barcodes+=[encode(line[0:parameter[\"BARCODE_LENGTH\"]].decode('UTF-8'))]  # extract barcode from barcode \n",
    "        cnt+=1;             \n",
    "    return barcodes\n",
    "\n",
    "def hamdist(s1, s2):\n",
    "    return sum(ch1 != ch2 for ch1, ch2 in zip(s1, s2))"
   ]
  },
  {
   "cell_type": "code",
   "execution_count": 8,
   "metadata": {
    "scrolled": true
   },
   "outputs": [
    {
     "name": "stdout",
     "output_type": "stream",
     "text": [
      "READ_BARCODES for sample t_3k_small:\n",
      " Reading from /home/vasilis/test_TCCprep/scRNA-Seq-TCC-prep/example_dataset/example_data/t_3k_fastqs_small/t_3k_small_S1_L001_R1_001.fastq.gz\n",
      " Reading from /home/vasilis/test_TCCprep/scRNA-Seq-TCC-prep/example_dataset/example_data/t_3k_fastqs_small/t_3k_small_S1_L005_R1_001.fastq.gz\n",
      " Reading from /home/vasilis/test_TCCprep/scRNA-Seq-TCC-prep/example_dataset/example_data/t_3k_fastqs_small/t_3k_small_S1_L002_R1_001.fastq.gz\n",
      " Reading from /home/vasilis/test_TCCprep/scRNA-Seq-TCC-prep/example_dataset/example_data/t_3k_fastqs_small/t_3k_small_S1_L004_R1_001.fastq.gz\n",
      " Reading from /home/vasilis/test_TCCprep/scRNA-Seq-TCC-prep/example_dataset/example_data/t_3k_fastqs_small/t_3k_small_S1_L006_R1_001.fastq.gz\n",
      " Reading from /home/vasilis/test_TCCprep/scRNA-Seq-TCC-prep/example_dataset/example_data/t_3k_fastqs_small/t_3k_small_S1_L003_R1_001.fastq.gz\n",
      " Reading from /home/vasilis/test_TCCprep/scRNA-Seq-TCC-prep/example_dataset/example_data/t_3k_fastqs_small/t_3k_small_S1_L007_R1_001.fastq.gz\n",
      " Reading from /home/vasilis/test_TCCprep/scRNA-Seq-TCC-prep/example_dataset/example_data/t_3k_fastqs_small/t_3k_small_S1_L008_R1_001.fastq.gz\n",
      "\n",
      "READ_BARCODES for sample t_4k_small:\n",
      " Reading from /home/vasilis/test_TCCprep/scRNA-Seq-TCC-prep/example_dataset/example_data/t_4k_fastqs_small/t_4k_small_S1_L001_R1_001.fastq.gz\n",
      " Reading from /home/vasilis/test_TCCprep/scRNA-Seq-TCC-prep/example_dataset/example_data/t_4k_fastqs_small/t_4k_small_S1_L006_R1_001.fastq.gz\n",
      " Reading from /home/vasilis/test_TCCprep/scRNA-Seq-TCC-prep/example_dataset/example_data/t_4k_fastqs_small/t_4k_small_S1_L002_R1_001.fastq.gz\n",
      " Reading from /home/vasilis/test_TCCprep/scRNA-Seq-TCC-prep/example_dataset/example_data/t_4k_fastqs_small/t_4k_small_S1_L007_R1_001.fastq.gz\n",
      " Reading from /home/vasilis/test_TCCprep/scRNA-Seq-TCC-prep/example_dataset/example_data/t_4k_fastqs_small/t_4k_small_S1_L008_R1_001.fastq.gz\n",
      " Reading from /home/vasilis/test_TCCprep/scRNA-Seq-TCC-prep/example_dataset/example_data/t_4k_fastqs_small/t_4k_small_S1_L004_R1_001.fastq.gz\n",
      " Reading from /home/vasilis/test_TCCprep/scRNA-Seq-TCC-prep/example_dataset/example_data/t_4k_fastqs_small/t_4k_small_S1_L005_R1_001.fastq.gz\n",
      " Reading from /home/vasilis/test_TCCprep/scRNA-Seq-TCC-prep/example_dataset/example_data/t_4k_fastqs_small/t_4k_small_S1_L003_R1_001.fastq.gz\n",
      "\n",
      "0.25188398361206055 sec\n"
     ]
    }
   ],
   "source": [
    "####### READ BARCODES for each sample\n",
    "barcodes_per_sample=[]\n",
    "for i_S in range(len(SAMPLE_NAMES)):\n",
    "    print(\"READ_BARCODES for sample \"+SAMPLE_NAMES[i_S]+':')\n",
    "    brc_dirs = barcode_dirs_per_sample[i_S] if len(SAMPLE_NAMES)>1 else barcode_dirs_per_sample[0]\n",
    "    t0 = time.time()\n",
    "    if len(brc_dirs)>1:\n",
    "        p=Pool(np.min([len(brc_dirs),NUM_THREADS]))\n",
    "        barcode_vec=p.map(read_barcodes_io, brc_dirs )\n",
    "        p.close()\n",
    "        p.join()\n",
    "        barcodes = np.array([item for sublist in barcode_vec for item in sublist],dtype='uint32') \n",
    "        del barcode_vec[:];del barcode_vec; #del all_bars\n",
    "        _ = gc.collect()\n",
    "    else:\n",
    "        barcodes=read_barcodes_zcat(brc_dirs[0])\n",
    "        \n",
    "    barcodes_per_sample +=[barcodes]\n",
    "    print('')\n",
    "\n",
    "t1 = time.time()\n",
    "print(t1-t0, \"sec\")"
   ]
  },
  {
   "cell_type": "code",
   "execution_count": 9,
   "metadata": {},
   "outputs": [
    {
     "name": "stdout",
     "output_type": "stream",
     "text": [
      "t_3k_small barcodes:\n",
      "\n",
      " CCATTTGAGTAACCCT\n",
      " GAAGCGTCAGTATAAG\n",
      " TATCAAGGTGCAGGTA\n",
      " TCACCTACAAACTGTC\n",
      " CCTAGCTAGGTGCAAC\n",
      " TCTGCAGGTAGGGACT\n",
      " TCGCAGTTCACATAGC\n",
      " AGTCAGGCAGTACACT\n",
      " CCTGCTCAGACCTAGG\n",
      " TAACCTCCAGTCGATT\n",
      " ...\n",
      " NUMBER_OF_SEQUENCED_BARCODES = 80000\n",
      "t_4k_small barcodes:\n",
      "\n",
      " AGCGGTTCATTGGGCC\n",
      " TCACGGAGTGAGTATA\n",
      " CTTACTGAGCCCGAAA\n",
      " CTGTGCGCATTCTTAC\n",
      " AGTCACTGTGTGACCC\n",
      " TAAGGCCTCTTACCGC\n",
      " AGTGTTAAGACCTTTG\n",
      " TCATACAGTAGGACAC\n",
      " TAGAGAGGTCGAACAG\n",
      " TACTTACTCGTCGTTC\n",
      " ...\n",
      " NUMBER_OF_SEQUENCED_BARCODES = 80000\n"
     ]
    }
   ],
   "source": [
    "for i_S in range(len(SAMPLE_NAMES)):\n",
    "    print(SAMPLE_NAMES[i_S]+\" barcodes:\\n\")\n",
    "    barcodes = barcodes_per_sample[i_S] if len(SAMPLE_NAMES)>1 else barcodes_per_sample[0]\n",
    "    for bar in barcodes[:10]:\n",
    "           print(' '+decode(bar))\n",
    "    print(\" ...\")\n",
    "    print(\" NUMBER_OF_SEQUENCED_BARCODES =\",len(barcodes))"
   ]
  },
  {
   "cell_type": "code",
   "execution_count": 10,
   "metadata": {},
   "outputs": [
    {
     "name": "stdout",
     "output_type": "stream",
     "text": [
      "Detecting Cells for t_3k_small ...\n",
      "NUM_OF_DISTINCT_BARCODES = 13550\n"
     ]
    },
    {
     "data": {
      "image/png": "[encoded data removed]",
      "text/plain": [
       "<matplotlib.figure.Figure at 0x7fe289e95710>"
      ]
     },
     "metadata": {},
     "output_type": "display_data"
    },
    {
     "name": "stdout",
     "output_type": "stream",
     "text": [
      "Cell_barcodes_detected: 3559\n",
      "NUM_OF_READS_in_CELL_BARCODES = 68827\n",
      "Detecting Cells for t_4k_small ...\n",
      "NUM_OF_DISTINCT_BARCODES = 14581\n"
     ]
    },
    {
     "data": {
      "image/png": "[encoded data removed]",
      "text/plain": [
       "<matplotlib.figure.Figure at 0x7fe288b5e0f0>"
      ]
     },
     "metadata": {},
     "output_type": "display_data"
    },
    {
     "name": "stdout",
     "output_type": "stream",
     "text": [
      "Cell_barcodes_detected: 4693\n",
      "NUM_OF_READS_in_CELL_BARCODES = 69370\n"
     ]
    }
   ],
   "source": [
    "codewords_per_sample=[]\n",
    "if parameter[\"use_precomputed_barcodes\"]==0:\n",
    "    for i_S in range(len(SAMPLE_NAMES)):\n",
    "\n",
    "        print(\"Detecting Cells for \"+SAMPLE_NAMES[i_S]+\" ...\")\n",
    "        barcodes = barcodes_per_sample[i_S] if len(SAMPLE_NAMES)>1 else barcodes_per_sample[0]\n",
    "\n",
    "        counts = Counter(barcodes)\n",
    "        labels, values = zip(*counts.items())\n",
    "\n",
    "        # sort your values in descending order\n",
    "        indSort = np.argsort(values)[::-1]\n",
    "\n",
    "        # rearrange your data\n",
    "        labels = np.array(labels)[indSort]\n",
    "        values = np.array(values)[indSort]\n",
    "\n",
    "        indices = np.arange(len(labels))\n",
    "        print(\"NUM_OF_DISTINCT_BARCODES =\",len(indices))\n",
    "\n",
    "        # we apply the cellranger thresholding here - 1st percentile\n",
    "        # the user has provided the expected cells parameter and we take the 1st percentile\n",
    "\n",
    "        EXP_CELLS=int(math.floor(parameter[\"EXP_CELLS\"][i_S] * 0.01 - 1))\n",
    "        exp_values = np.where(values >= values[EXP_CELLS] / 10)\n",
    "\n",
    "        NUM_OF_BARCODES = np.shape(exp_values)[1]\n",
    "\n",
    "\n",
    "        fig, ax = plt.subplots()\n",
    "        ax.plot(indices, (values))\n",
    "        ax.set_xscale(\"log\", nonposx='clip')\n",
    "        ax.set_yscale(\"log\", nonposy='clip')\n",
    "        ax.set_ylabel('Number of reads', color='k')\n",
    "        ax.set_xlabel('barcode', color='k')\n",
    "        ax.set_title(SAMPLE_NAMES[i_S]+': Number of reads per Barcode', color='b')\n",
    "        ax.axvline(NUM_OF_BARCODES, color='g', linestyle='--',linewidth=2.0)\n",
    "        fig.savefig(str(parameter[\"SAVE_DIR\"])+SAMPLE_NAMES[i_S]+'_umi_barcodes.png')\n",
    "        plt.show()\n",
    "        print(\"Cell_barcodes_detected:\",NUM_OF_BARCODES)\n",
    "        print(\"NUM_OF_READS_in_CELL_BARCODES =\",sum(values[:NUM_OF_BARCODES]))\n",
    "\n",
    "        codewords_per_sample+=[labels[:NUM_OF_BARCODES]]\n",
    "\n",
    "    ## CLEANUP\n",
    "    #del indices; del labels; del values; del counts; del valdiff; del indSort; del Ham_dist; del dmin\n",
    "    del indices; del labels; del values; del counts; del indSort; \n",
    "    _ = gc.collect()       \n",
    "else:\n",
    "    print(\"Will use precomputed cell barcodes for each sample:\")\n",
    "    for i_S in range(len(SAMPLE_NAMES)):\n",
    "        print(SAMPLE_NAMES[i_S]+'->'+parameter[\"precomputed_barcode_files\"][i_S])\n",
    "        load_barcodes=np.loadtxt(parameter[\"precomputed_barcode_files\"][i_S],dtype=str,delimiter='\\n')\n",
    "        brcs=[]\n",
    "        for i in load_barcodes:\n",
    "            brcs+=[encode(i)]\n",
    "        print(\"Number of cell barcodes:\",len(brcs))\n",
    "        codewords_per_sample+=[brcs]"
   ]
  },
  {
   "cell_type": "code",
   "execution_count": 11,
   "metadata": {},
   "outputs": [
    {
     "name": "stdout",
     "output_type": "stream",
     "text": [
      "\n",
      "Calculating d_min for t_3k_small ...\n",
      "-- number of cell barcodes to error-correct: 2666 ( dmin >= 4 )\n",
      "\n",
      "Calculating d_min for t_4k_small ...\n",
      "-- number of cell barcodes to error-correct: 3187 ( dmin >= 4 )\n",
      "\n",
      " 106.31218528747559 sec\n"
     ]
    }
   ],
   "source": [
    "#Choose barcodes to error correct based on d_min\n",
    "\n",
    "###########################################\n",
    "def is_far_enough(i):\n",
    "    d=parameter['dmin']\n",
    "    dmin=100000\n",
    "    codi=decode(codewords[i])\n",
    "    j_range=list(np.arange(1,i))+list(np.arange(i+1,len(codewords)))\n",
    "    while dmin>=d and len(j_range)>0:\n",
    "        j=j_range.pop()\n",
    "        dmin=np.min([dmin,hamdist(codi,decode(codewords[j]))])\n",
    "\n",
    "    return i if dmin>=d else -1\n",
    "###########################################    \n",
    "\n",
    "t0 = time.time()\n",
    "d=parameter['dmin']\n",
    "brc_idx_to_correct_per_sample=[]\n",
    "for i_S in range(len(SAMPLE_NAMES)):\n",
    "    print(\"\\nCalculating d_min for \"+SAMPLE_NAMES[i_S]+\" ...\")\n",
    "    \n",
    "    codewords=codewords_per_sample[i_S] if len(SAMPLE_NAMES)>1 else codewords_per_sample[0]\n",
    "    p=Pool(NUM_THREADS)\n",
    "    ret_vec=p.map(is_far_enough, np.arange(len(codewords)) )\n",
    "    p.close()\n",
    "    p.join()\n",
    "\n",
    "    brc_idx_to_correct = [i for i in ret_vec if i>=0]\n",
    "    print(\"-- number of cell barcodes to error-correct:\", len(brc_idx_to_correct), \"( dmin >=\", d,\")\" )  \n",
    "    \n",
    "    brc_idx_to_correct_per_sample += [brc_idx_to_correct] \n",
    "    \n",
    "t1 = time.time()\n",
    "print('\\n',t1-t0, \"sec\")"
   ]
  },
  {
   "cell_type": "code",
   "execution_count": 12,
   "metadata": {},
   "outputs": [
    {
     "name": "stdout",
     "output_type": "stream",
     "text": [
      "Writing output...\n",
      "DONE\n"
     ]
    }
   ],
   "source": [
    "print(\"Writing output...\")\n",
    "\n",
    "import pickle\n",
    "save_dir=str(parameter[\"SAVE_DIR\"])\n",
    "\n",
    "        \n",
    "for i_S in range(len(SAMPLE_NAMES)):\n",
    "    barcodes=barcodes_per_sample[i_S] if len(SAMPLE_NAMES)>1 else barcodes_per_sample[0]\n",
    "    codewords=codewords_per_sample[i_S] if len(SAMPLE_NAMES)>1 else codewords_per_sample[0]\n",
    "    brc_idx_to_correct=brc_idx_to_correct_per_sample[i_S] if len(SAMPLE_NAMES)>1 else brc_idx_to_correct_per_sample[0]\n",
    "    with open(save_dir+SAMPLE_NAMES[i_S]+\"_barcodes.dat\", 'wb') as f:\n",
    "        pickle.dump(barcodes,f)\n",
    "    with open(save_dir+SAMPLE_NAMES[i_S]+\"_codewords.dat\", 'wb') as f:\n",
    "        pickle.dump(codewords,f)\n",
    "    with open(save_dir+SAMPLE_NAMES[i_S]+\"_brc_idx_to_correct.dat\", 'wb') as f:\n",
    "        pickle.dump(brc_idx_to_correct,f)\n",
    "\n",
    "        \n",
    "### let the workflow know that the notebook version of get_cell_barcodes has been executed\n",
    "with open(str(parameter[\"SAVE_DIR\"])+\"notebook.cookie\", 'w') as f:\n",
    "                   f.write(str(SAMPLE_NAMES))\n",
    "        \n",
    "print(\"DONE\")"
   ]
  },
  {
   "cell_type": "code",
   "execution_count": null,
   "metadata": {
    "collapsed": true
   },
   "outputs": [],
   "source": []
  }
 ],
 "metadata": {
  "kernelspec": {
   "display_name": "py36",
   "language": "python",
   "name": "python3"
  },
  "language_info": {
   "codemirror_mode": {
    "name": "ipython",
    "version": 3
   },
   "file_extension": ".py",
   "mimetype": "text/x-python",
   "name": "python",
   "nbconvert_exporter": "python",
   "pygments_lexer": "ipython3",
   "version": "3.6.2"
  }
 },
 "nbformat": 4,
 "nbformat_minor": 2
}
